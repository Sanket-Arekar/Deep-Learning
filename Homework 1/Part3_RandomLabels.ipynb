{
 "cells": [
  {
   "cell_type": "code",
   "execution_count": 1,
   "id": "increasing-hands",
   "metadata": {},
   "outputs": [],
   "source": [
    "# This program attempts to fit a DNN to the MNIST dataset with random target labels\n",
    "# Results show this does not work well\n",
    "\n",
    "import tensorflow as tf\n",
    "import numpy as np\n",
    "import torch\n",
    "import torchvision as tv\n",
    "from torchvision import transforms, datasets\n",
    "import torch.nn as nn\n",
    "import torch.nn.functional as F\n",
    "import torch.optim as optim\n",
    "import matplotlib.pyplot as plt\n",
    "plt.style.use('seaborn-whitegrid')"
   ]
  },
  {
   "cell_type": "code",
   "execution_count": 2,
   "id": "compatible-plenty",
   "metadata": {},
   "outputs": [],
   "source": [
    "# Grab MNIST Dataset\n",
    "trainingSet = datasets.MNIST('', train=True, download=False, transform=transforms.Compose([transforms.ToTensor()]))\n",
    "testingSet = datasets.MNIST('', train=False, download=False, transform=transforms.Compose([transforms.ToTensor()]))"
   ]
  },
  {
   "cell_type": "code",
   "execution_count": 3,
   "id": "identified-officer",
   "metadata": {},
   "outputs": [],
   "source": [
    "# Randomly shuffle labels\n",
    "randomLabelsTrain = torch.tensor(np.random.randint(0,10, (len(trainingSet)),))\n",
    "trainingSet.targets = randomLabelsTrain\n",
    "randomLabelsTest = torch.tensor(np.random.randint(0,10, (len(testingSet)),))\n",
    "testingSet.targets = randomLabelsTest\n",
    "\n",
    "# Prep data for training and testing\n",
    "train = torch.utils.data.DataLoader(trainingSet, batch_size=50, shuffle=True)\n",
    "test = torch.utils.data.DataLoader(testingSet, batch_size=50, shuffle=True)\n"
   ]
  },
  {
   "cell_type": "code",
   "execution_count": 4,
   "id": "middle-tennis",
   "metadata": {},
   "outputs": [],
   "source": [
    "# Random Labels NN for training - 2 hidden layers, 8175 parameters\n",
    "class randomNN(nn.Module):\n",
    "    def __init__(self):\n",
    "        super().__init__()\n",
    "        self.fc1 = nn.Linear(784, 10)\n",
    "        self.fc2 = nn.Linear(10, 15)\n",
    "        self.fc3 = nn.Linear(15, 10)\n",
    "\n",
    "    def forward(self, val):\n",
    "        val = F.relu(self.fc1(val))\n",
    "        val = F.relu(self.fc2(val))\n",
    "        val = self.fc3(val)\n",
    "        return val"
   ]
  },
  {
   "cell_type": "code",
   "execution_count": 5,
   "id": "cardiac-andrew",
   "metadata": {},
   "outputs": [],
   "source": [
    "# Set up necessary auxilaries for neural net training\n",
    "randomNet = randomNN()\n",
    "costFunc = nn.CrossEntropyLoss()\n",
    "opt = optim.Adam(randomNet.parameters(), lr=0.001)"
   ]
  },
  {
   "cell_type": "code",
   "execution_count": 6,
   "id": "african-feelings",
   "metadata": {},
   "outputs": [],
   "source": [
    "# Train Random Label neural networks, Calculate accuracy for training and testing in each epoch\n",
    "EPOCHS = 400\n",
    "counter = 0\n",
    "counterList = []\n",
    "costList = []\n",
    "testLossList = []\n",
    "trainLossList = []\n",
    "for index in range(EPOCHS):\n",
    "    counterList.append(counter)\n",
    "    counter += 1\n",
    "    # Train model\n",
    "    for batch in train:\n",
    "        inputImages, groundTruth = batch\n",
    "        randomNet.zero_grad()\n",
    "        output = randomNet(inputImages.view(-1,784))\n",
    "        cost = costFunc(output, groundTruth)\n",
    "        cost.backward()\n",
    "        opt.step()\n",
    "    costList.append(cost)\n",
    "    \n",
    "    # Calculate cost on training data\n",
    "    trainTotal = 0\n",
    "    trainCounter = 0\n",
    "    for batch in train: \n",
    "        inputImages, groundTruth = batch\n",
    "        output = randomNet(inputImages.view(-1,784))\n",
    "        cost = costFunc(output, groundTruth)\n",
    "        trainTotal += cost\n",
    "        trainCounter += 1\n",
    "    trainTotal = trainTotal / trainCounter\n",
    "    trainLossList.append(trainTotal)\n",
    "    \n",
    "    # Calculate cost on test data\n",
    "    testTotal = 0\n",
    "    testCounter = 0\n",
    "    for batch in test: \n",
    "        inputImages, groundTruth = batch\n",
    "        output = randomNet(inputImages.view(-1,784))\n",
    "        cost = costFunc(output, groundTruth)\n",
    "        testTotal += cost\n",
    "        testCounter += 1\n",
    "    testTotal = testTotal / testCounter\n",
    "    testLossList.append(testTotal)"
   ]
  },
  {
   "cell_type": "code",
   "execution_count": 7,
   "id": "above-strength",
   "metadata": {
    "scrolled": true
   },
   "outputs": [
    {
     "data": {
      "image/png": "[encoded data removed]",
      "text/plain": [
       "<Figure size 432x288 with 1 Axes>"
      ]
     },
     "metadata": {},
     "output_type": "display_data"
    }
   ],
   "source": [
    "# Visulaize Accuracy of nn for for MNIST dataset\n",
    "plt.plot(counterList, trainLossList, 'r', label='Train')\n",
    "plt.plot(counterList, testLossList, 'b', label='Test')\n",
    "plt.title(\"Loss with Random Labels\")\n",
    "plt.xlabel(\"EPOCHS\")\n",
    "plt.ylabel(\"Loss\")\n",
    "plt.legend(loc=\"center right\")\n",
    "plt.show()"
   ]
  }
 ],
 "metadata": {
  "kernelspec": {
   "display_name": "Python 3",
   "language": "python",
   "name": "python3"
  },
  "language_info": {
   "codemirror_mode": {
    "name": "ipython",
    "version": 3
   },
   "file_extension": ".py",
   "mimetype": "text/x-python",
   "name": "python",
   "nbconvert_exporter": "python",
   "pygments_lexer": "ipython3",
   "version": "3.8.5"
  }
 },
 "nbformat": 4,
 "nbformat_minor": 5
}
